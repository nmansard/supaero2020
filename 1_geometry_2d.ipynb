{
 "cells": [
  {
   "cell_type": "markdown",
   "metadata": {},
   "source": [
    "# Direct and inverse geometry of 2d robots"
   ]
  },
  {
   "cell_type": "markdown",
   "metadata": {},
   "source": [
    "This notebook the main concept of kinematic tree, direct geometry and inverse geometry, but without the kinematic tree of Pinocchio. We only use the basic geometries of the Gepetto Viewer for displaying the simple robot that is used in this tutorial."
   ]
  },
  {
   "cell_type": "code",
   "execution_count": 1,
   "metadata": {},
   "outputs": [
    {
     "name": "stdout",
     "output_type": "stream",
     "text": [
      "NB: as for all the tutorials, a magic command %do_not_load is introduced to hide the solutions to some questions. Change it for %load if you want to see (and execute) the solution.\n"
     ]
    }
   ],
   "source": [
    "import magic_donotload"
   ]
  },
  {
   "cell_type": "markdown",
   "metadata": {},
   "source": [
    "## Set up\n",
    "We will need NumPy, SciPy, and Gepetto Viewer for vizualizing the robot.\n",
    "Scipy is a collection of scientific tools for Python. It contains, in particular, a set of optimizers that we are going to use for solving the inverse-geometry problem. If not done yet, install scipy with `sudo apt-get install python3-scipy`"
   ]
  },
  {
   "cell_type": "code",
   "execution_count": 2,
   "metadata": {},
   "outputs": [],
   "source": [
    "import time\n",
    "import numpy as np\n",
    "from scipy.optimize import fmin_bfgs,fmin_slsqp\n",
    "import gviewserver"
   ]
  },
  {
   "cell_type": "markdown",
   "metadata": {},
   "source": [
    "## Displaying objects\n",
    "\n",
    "Let's first learn how to open a 3D viewer, in which we will build our simulator. First start gepetto-gui. Best is to run it directly from the shell by typing gepetto-gui. A new window with the Gepetto logo should open. Objects can be now created from the python commands.\n",
    "\n",
    "The following GView object is a client of the Gepetto Viewer server, i.e. it will be use to pass display command to the viewer. The first commands are to create objects, "
   ]
  },
  {
   "cell_type": "code",
   "execution_count": 3,
   "metadata": {
    "scrolled": true
   },
   "outputs": [],
   "source": [
    "gv = gviewserver.GepettoViewerServer()\n",
    "\n",
    "gv.addSphere('world/ball', .1, [1, 0, 0, 1])  # radius, color=[r,g,b,1]\n",
    "gv.addCapsule('world/capsule', .05,.75, [1, 1, 1, 1])  # radius, length, color = [r,g,b,a]\n",
    "gv.addBox('world/box', .2,.05,.5,  [.5, .5, 1, 1]);  # depth(x), length(y), height(z), color"
   ]
  },
  {
   "cell_type": "markdown",
   "metadata": {},
   "source": [
    "Execute the above python commands once, you get a \"True\" output. Execute it a second time, you get a False: that's just telling you that the object world/box already exists and Gepetto viewer cannot create it again. If you want to erase your world and all your objects, just run:\n"
   ]
  },
  {
   "cell_type": "code",
   "execution_count": 4,
   "metadata": {},
   "outputs": [],
   "source": [
    "gv.deleteNode('world', True)  # name, all=True"
   ]
  },
  {
   "cell_type": "markdown",
   "metadata": {},
   "source": [
    "After that, the link toward the viewer server \"gv\" is broken. You now have to run again the gviewerserver.GepettoViewerServer() command to create the world again.\n"
   ]
  },
  {
   "cell_type": "code",
   "execution_count": 5,
   "metadata": {},
   "outputs": [],
   "source": [
    "gv = gviewserver.GepettoViewerServer()"
   ]
  },
  {
   "cell_type": "markdown",
   "metadata": {},
   "source": [
    "Placing objects can be done using the applyConfiguration command, and specifying the placement as a 3D translation and quaternion rotation. Don't forget to refresh your window after placing your objects."
   ]
  },
  {
   "cell_type": "code",
   "execution_count": 6,
   "metadata": {},
   "outputs": [],
   "source": [
    "gv.applyConfiguration('world/box', [.1, .1, .1, 1, 0, 0, 0])  # x, y, z, quaternion\n",
    "gv.refresh()"
   ]
  },
  {
   "cell_type": "markdown",
   "metadata": {},
   "source": [
    "In a first time, we will work in 2D. Here is a shortcut to place an object from x,y,theta 2d placement."
   ]
  },
  {
   "cell_type": "code",
   "execution_count": 7,
   "metadata": {},
   "outputs": [],
   "source": [
    "def placement(x, y, theta): \n",
    "    return [y, 0, x, 0, np.sin(theta / 2), 0, np.cos(theta / 2)]"
   ]
  },
  {
   "cell_type": "markdown",
   "metadata": {},
   "source": [
    "An example of a shorter positioning of a 2D object using this shortcut is:"
   ]
  },
  {
   "cell_type": "code",
   "execution_count": 8,
   "metadata": {},
   "outputs": [],
   "source": [
    "gv.applyConfiguration('world/capsule', placement(0.1, 0.2, np.pi / 4))\n",
    "gv.refresh()"
   ]
  },
  {
   "cell_type": "markdown",
   "metadata": {},
   "source": [
    "## Creating a 2d robot\n",
    "This robot will have 2 joints, named shoulder and elbow, with link of length 1 to connect them. First let's create the 5 geometry objects."
   ]
  },
  {
   "cell_type": "code",
   "execution_count": 9,
   "metadata": {},
   "outputs": [],
   "source": [
    "gv.addSphere ('world/joint1', .1, [1 ,0 ,0,1])\n",
    "gv.addSphere ('world/joint2', .1, [1 ,0 ,0,1])\n",
    "gv.addSphere ('world/joint3', .1, [1 ,0 ,0,1])\n",
    "gv.addCapsule('world/arm1', .05, .75, [1 ,1 ,1,1])\n",
    "gv.addCapsule('world/arm2', .05, .75, [1 ,1 ,1,1]);"
   ]
  },
  {
   "cell_type": "markdown",
   "metadata": {},
   "source": [
    "Given a configuration vector q of dimension 2, compute the position of the centers of each object, and display correctly the robot."
   ]
  },
  {
   "cell_type": "code",
   "execution_count": 10,
   "metadata": {},
   "outputs": [],
   "source": [
    "q = np.matrix(np.random.rand(2) * 6 - 3).T"
   ]
  },
  {
   "cell_type": "code",
   "execution_count": 12,
   "metadata": {},
   "outputs": [],
   "source": [
    "# %load -r 23-35 tp1/configuration_reduced.py\n",
    "def display(q):\n",
    "    '''Display the robot in Gepetto Viewer. '''\n",
    "    assert (q.shape == (2, 1))\n",
    "    c0 = np.cos(q[0, 0])\n",
    "    s0 = np.sin(q[0, 0])\n",
    "    c1 = np.cos(q[0, 0] + q[1, 0])\n",
    "    s1 = np.sin(q[0, 0] + q[1, 0])\n",
    "    gv.applyConfiguration('world/joint1', placement(0, 0, 0))\n",
    "    gv.applyConfiguration('world/arm1', placement(c0 / 2, s0 / 2, q[0, 0]))\n",
    "    gv.applyConfiguration('world/joint2', placement(c0, s0, q[0, 0]))\n",
    "    gv.applyConfiguration('world/arm2', placement(c0 + c1 / 2, s0 + s1 / 2, q[0, 0] + q[1, 0]))\n",
    "    gv.applyConfiguration('world/joint3', placement(c0 + c1, s0 + s1, q[0, 0] + q[1, 0]))\n",
    "    gv.refresh()"
   ]
  },
  {
   "cell_type": "code",
   "execution_count": 14,
   "metadata": {},
   "outputs": [],
   "source": [
    "display(q) # Display the robot in Gepetto Viewer"
   ]
  },
  {
   "cell_type": "markdown",
   "metadata": {},
   "source": [
    "The end effector is already computed in the previous method. Let's build a dedicated method to return the same value."
   ]
  },
  {
   "cell_type": "code",
   "execution_count": 16,
   "metadata": {},
   "outputs": [],
   "source": [
    "# %load -r 37-44 tp1/configuration_reduced.py\n",
    "def endeffector(q):\n",
    "    '''Return the 2D position of the end effector of the robot at configuration q. '''\n",
    "    assert (q.shape == (2, 1))\n",
    "    c0 = np.cos(q[0, 0])\n",
    "    s0 = np.sin(q[0, 0])\n",
    "    c1 = np.cos(q[0, 0] + q[1, 0])\n",
    "    s1 = np.sin(q[0, 0] + q[1, 0])\n",
    "    return np.matrix([c0 + c1, s0 + s1]).T"
   ]
  },
  {
   "cell_type": "code",
   "execution_count": 17,
   "metadata": {},
   "outputs": [
    {
     "data": {
      "text/plain": [
       "matrix([[-1.94985342],\n",
       "        [-0.4398189 ]])"
      ]
     },
     "execution_count": 17,
     "metadata": {},
     "output_type": "execute_result"
    }
   ],
   "source": [
    "endeffector(q)"
   ]
  },
  {
   "cell_type": "markdown",
   "metadata": {},
   "source": [
    "## Optimize the configuration "
   ]
  },
  {
   "cell_type": "markdown",
   "metadata": {},
   "source": [
    "Optimization will be done with the BFGS solver of scipy, which simply takes an intial guess and a cost function. Here the cost will be the squared distance to a given target."
   ]
  },
  {
   "cell_type": "code",
   "execution_count": 20,
   "metadata": {},
   "outputs": [],
   "source": [
    "# %load -r 46-51 tp1/configuration_reduced.py\n",
    "target = np.matrix([.5, .5]).T\n",
    "\n",
    "def cost(q):\n",
    "    q = np.matrix(q).T\n",
    "    eff = endeffector(q)\n",
    "    return np.linalg.norm(eff - target)**2"
   ]
  },
  {
   "cell_type": "markdown",
   "metadata": {},
   "source": [
    "In SciPy, BFGS also accepts a callback function, that we will use to display in the viewer the current value of the decision variable."
   ]
  },
  {
   "cell_type": "code",
   "execution_count": 27,
   "metadata": {},
   "outputs": [],
   "source": [
    "# %load -r 53-56 tp1/configuration_reduced.py\n",
    "def callback(q):\n",
    "    q = np.matrix(q).T\n",
    "    display(q)\n",
    "    time.sleep(.5)"
   ]
  },
  {
   "cell_type": "markdown",
   "metadata": {},
   "source": [
    "And that is it, let's call BFGS."
   ]
  },
  {
   "cell_type": "code",
   "execution_count": 28,
   "metadata": {},
   "outputs": [
    {
     "name": "stdout",
     "output_type": "stream",
     "text": [
      "Optimization terminated successfully.\n",
      "         Current function value: 0.000000\n",
      "         Iterations: 9\n",
      "         Function evaluations: 60\n",
      "         Gradient evaluations: 15\n"
     ]
    }
   ],
   "source": [
    "# %load -r 59-60 tp1/configuration_reduced.py\n",
    "x0 = np.array([0.0, 0.0])\n",
    "xopt_bfgs = fmin_bfgs(cost, x0, callback=callback)"
   ]
  },
  {
   "cell_type": "markdown",
   "metadata": {},
   "source": [
    "## What configuration to optimize?\n",
    "It seems logical to optimize over the angles $q_1,q_2$. However, other representations of the configuration are possible. Consider for example the explicit representation, where the placement of each body 1,2,3 is stored. For each body, we get $x,y,\\theta$, so 9 parameters in total. In addition, each body position is constrained with respect to the placement of the previous body, with 6 constraints in total. \n",
    "\n",
    "What are the pros and cons? The effector position is now a trivial function of the representation, hence the cost function is very simple. The trade-off is that we have to explicitly satisfy the constraints. \n",
    "\n",
    "Let's start by defining the configuration."
   ]
  },
  {
   "cell_type": "code",
   "execution_count": 29,
   "metadata": {},
   "outputs": [],
   "source": [
    "x1, y1, th1, x2, y2, th2, x3, y3, th3 = x0 = np.zeros(9)"
   ]
  },
  {
   "cell_type": "markdown",
   "metadata": {},
   "source": [
    "The cost function is now just a sparse difference on x3,y3:"
   ]
  },
  {
   "cell_type": "code",
   "execution_count": 32,
   "metadata": {},
   "outputs": [],
   "source": [
    "# %load -r 34-37 tp1/configuration_extended.py\n",
    "def endeffector_9(ps):\n",
    "    assert (ps.shape == (9, ))\n",
    "    x1, y1, t1, x2, y2, t2, x3, y3, t3 = ps\n",
    "    return np.matrix([x3, y3]).T"
   ]
  },
  {
   "cell_type": "code",
   "execution_count": 35,
   "metadata": {},
   "outputs": [],
   "source": [
    "# %load -r 41-43 tp1/configuration_extended.py\n",
    "def cost_9(ps):\n",
    "    eff = endeffector_9(ps)\n",
    "    return np.linalg.norm(eff - target)**2"
   ]
  },
  {
   "cell_type": "markdown",
   "metadata": {},
   "source": [
    "The constraint function should return a vector, each coefficient corresponding to one of the 6 constraints:"
   ]
  },
  {
   "cell_type": "code",
   "execution_count": 37,
   "metadata": {},
   "outputs": [],
   "source": [
    "# %load -r 45-55 tp1/configuration_extended.py\n",
    "def constraint_9(ps):\n",
    "    assert (ps.shape == (9, ))\n",
    "    x1, y1, t1, x2, y2, t2, x3, y3, t3 = ps\n",
    "    res = np.zeros(6)\n",
    "    res[0] = x1 - 0\n",
    "    res[1] = y1 - 0\n",
    "    res[2] = x1 + np.cos(t1) - x2\n",
    "    res[3] = y1 + np.sin(t1) - y2\n",
    "    res[4] = x2 + np.cos(t2) - x3\n",
    "    res[5] = y2 + np.sin(t2) - y3\n",
    "    return res"
   ]
  },
  {
   "cell_type": "markdown",
   "metadata": {},
   "source": [
    "For example, the configuration with the 9-vector set to 0 is not satisfying the constraints."
   ]
  },
  {
   "cell_type": "code",
   "execution_count": 38,
   "metadata": {},
   "outputs": [
    {
     "name": "stdout",
     "output_type": "stream",
     "text": [
      "0.5000000000000001 [0. 0. 1. 0. 1. 0.]\n"
     ]
    }
   ],
   "source": [
    "print(cost_9(x0), constraint_9(x0))"
   ]
  },
  {
   "cell_type": "markdown",
   "metadata": {},
   "source": [
    "We can similarly redefined the display function and the callback"
   ]
  },
  {
   "cell_type": "code",
   "execution_count": 40,
   "metadata": {},
   "outputs": [],
   "source": [
    "# %load -r 23-32 tp1/configuration_extended.py\n",
    "def display_9(ps):\n",
    "    '''Display the robot in Gepetto Viewer. '''\n",
    "    assert (ps.shape == (9, ))\n",
    "    x1, y1, t1, x2, y2, t2, x3, y3, t3 = ps\n",
    "    gv.applyConfiguration('world/joint1', placement(x1, y1, t1))\n",
    "    gv.applyConfiguration('world/arm1', placement(x1 + np.cos(t1) / 2, x1 + np.sin(t1) / 2, t1))\n",
    "    gv.applyConfiguration('world/joint2', placement(x2, y2, t2))\n",
    "    gv.applyConfiguration('world/arm2', placement(x2 + np.cos(t2) / 2, y2 + np.sin(t2) / 2, t2))\n",
    "    gv.applyConfiguration('world/joint3', placement(x3, y3, t3))\n",
    "    gv.refresh()"
   ]
  },
  {
   "cell_type": "code",
   "execution_count": 43,
   "metadata": {},
   "outputs": [],
   "source": [
    "# %load -r 60-62 tp1/configuration_extended.py\n",
    "def callback_9(ps):\n",
    "    display_9(ps)\n",
    "    time.sleep(.5)"
   ]
  },
  {
   "cell_type": "markdown",
   "metadata": {},
   "source": [
    "### Solve with a penalty cost\n",
    "The BFGS solver defined above cannot be used directly to optimize over equality constraints. A dirty trick is to add the constraint as a penalty, i.e. a high-weigth term in the cost function: $penalty(x) = cost(x) + 100*||constraint(x)||^2$ . Here, we are in a good case where the optimum corresponds to the 0 of both the constraint and the cost. The penalty with any weight would lead to the optimum and perfect constraint satisfaction. Yet the solver suffers to reach the optimum, because of the way we have described the constraint."
   ]
  },
  {
   "cell_type": "code",
   "execution_count": 45,
   "metadata": {
    "scrolled": true
   },
   "outputs": [],
   "source": [
    "# %load -r 57-58 tp1/configuration_extended.py\n",
    "def penalty(ps):\n",
    "    return cost_9(ps) + 10 * sum(np.square(constraint_9(ps)))"
   ]
  },
  {
   "cell_type": "code",
   "execution_count": 46,
   "metadata": {},
   "outputs": [
    {
     "name": "stdout",
     "output_type": "stream",
     "text": [
      "Optimization terminated successfully.\n",
      "         Current function value: 0.000000\n",
      "         Iterations: 36\n",
      "         Function evaluations: 462\n",
      "         Gradient evaluations: 42\n"
     ]
    }
   ],
   "source": [
    "xopt = fmin_bfgs(penalty, x0, callback=callback_9)"
   ]
  },
  {
   "cell_type": "markdown",
   "metadata": {},
   "source": [
    "### Solve with a constrained solver\n",
    "Alternatively, the solver S-LS-QP (sequential least-square quadratic-program) optimizes over equality constraints."
   ]
  },
  {
   "cell_type": "code",
   "execution_count": null,
   "metadata": {},
   "outputs": [],
   "source": [
    "xopt = fmin_slsqp(cost_9, x0, callback=callback_9, f_eqcons=constraint_9, iprint=2, full_output=1)[0]"
   ]
  },
  {
   "cell_type": "markdown",
   "metadata": {},
   "source": [
    "When properly defining the constraint, the solver converges quickly. It is difficult to say a-priori whether it is better to optimize with the q (and consequently a dense cost and no constraint) or with the x-y-theta (and consequently a sparse cost and constraints). Here, we empirically observe no significant difference. "
   ]
  }
 ],
 "metadata": {
  "kernelspec": {
   "display_name": "Python 3",
   "language": "python",
   "name": "python3"
  },
  "language_info": {
   "codemirror_mode": {
    "name": "ipython",
    "version": 3
   },
   "file_extension": ".py",
   "mimetype": "text/x-python",
   "name": "python",
   "nbconvert_exporter": "python",
   "pygments_lexer": "ipython3",
   "version": "3.5.2"
  }
 },
 "nbformat": 4,
 "nbformat_minor": 2
}
