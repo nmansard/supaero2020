{
 "cells": [
  {
   "cell_type": "markdown",
   "metadata": {},
   "source": [
    "# Direct and inverse geometry of 2d robots\n",
    "\n"
   ]
  },
  {
   "cell_type": "markdown",
   "metadata": {},
   "source": [
    "## Displaying objects\n",
    "\n",
    "Let's first learn how to open a 3D viewer, in which we will build our simulator. First start gepetto-gui. Best is to run it directly from the shell by typing gepetto-gui. A new window with the Gepetto logo should open. Objects can be now created from the python commands.\n",
    "\n",
    "The following GView object is a client of the Gepetto Viewer server, i.e. it will be use to pass display command to the viewer. The first commands are to create objects, "
   ]
  },
  {
   "cell_type": "code",
   "execution_count": 1,
   "metadata": {
    "scrolled": true
   },
   "outputs": [
    {
     "data": {
      "text/plain": [
       "True"
      ]
     },
     "execution_count": 1,
     "metadata": {},
     "output_type": "execute_result"
    }
   ],
   "source": [
    "import gviewserver\n",
    "gv = gviewserver.GepettoViewerServer()\n",
    "\n",
    "gv.addSphere('world/ball', .1, [1, 0, 0, 1])  # radius, color=[r,g,b,1]\n",
    "gv.addCapsule('world/capsule', .05,.75, [1, 1, 1, 1])  # radius, length, color = [r,g,b,a]\n",
    "gv.addBox('world/box', .2,.05,.5,  [.5, .5, 1, 1])  # depth(x), length(y), height(z), color"
   ]
  },
  {
   "cell_type": "markdown",
   "metadata": {},
   "source": [
    "Execute the above python commands once, you get a \"True\" output. Execute it a second time, you get a False: that's just telling you that the object world/box already exists and Gepetto viewer cannot create it again. If you want to erase your world and all your objects, just run:\n"
   ]
  },
  {
   "cell_type": "code",
   "execution_count": 2,
   "metadata": {},
   "outputs": [],
   "source": [
    "gv.deleteNode('world', True)  # name, all=True"
   ]
  },
  {
   "cell_type": "markdown",
   "metadata": {},
   "source": [
    "You now have to run again the gviewerserver.GepettoViewerServer() command to create the world again.\n"
   ]
  },
  {
   "cell_type": "code",
   "execution_count": 3,
   "metadata": {},
   "outputs": [],
   "source": [
    "gv = gviewserver.GepettoViewerServer()"
   ]
  },
  {
   "cell_type": "markdown",
   "metadata": {},
   "source": [
    "Placing objects can be done using the applyConfiguration command, and specifying the placement as a 3D translation and quaternion rotation. Don't forget to refresh your window after placing your objects."
   ]
  },
  {
   "cell_type": "code",
   "execution_count": 4,
   "metadata": {},
   "outputs": [],
   "source": [
    "gv.applyConfiguration('world/box', [.1, .1, .1, 1, 0, 0, 0])  # x, y, z, quaternion\n",
    "gv.refresh()"
   ]
  },
  {
   "cell_type": "markdown",
   "metadata": {},
   "source": [
    "In a first time, we will work in 2D. Here is a shortcut to place an object from x,y,theta 2d placement."
   ]
  },
  {
   "cell_type": "code",
   "execution_count": 5,
   "metadata": {},
   "outputs": [],
   "source": [
    "import numpy as np\n",
    "def placement(x, y, theta): \n",
    "    return [y, 0, x, 0, np.sin(theta / 2), 0, np.cos(theta / 2)]\n",
    "gv.applyConfiguration('world/capsule', placement(0.1, 0.2, np.pi / 4))\n",
    "gv.refresh()"
   ]
  },
  {
   "cell_type": "markdown",
   "metadata": {},
   "source": [
    "## Creating a 2d robot\n",
    "This robot will have 2 joints, named shoulder and elbow, with link of length 1 to connect them. First let's create the 5 geometry objects."
   ]
  },
  {
   "cell_type": "code",
   "execution_count": 6,
   "metadata": {},
   "outputs": [
    {
     "data": {
      "text/plain": [
       "True"
      ]
     },
     "execution_count": 6,
     "metadata": {},
     "output_type": "execute_result"
    }
   ],
   "source": [
    "gv.addSphere ('world/joint1', .1, [1 ,0 ,0,1])\n",
    "gv.addSphere ('world/joint2', .1, [1 ,0 ,0,1])\n",
    "gv.addSphere ('world/joint3', .1, [1 ,0 ,0,1])\n",
    "gv.addCapsule('world/arm1', .05, .75, [1 ,1 ,1,1])\n",
    "gv.addCapsule('world/arm2', .05, .75, [1 ,1 ,1,1])"
   ]
  },
  {
   "cell_type": "markdown",
   "metadata": {},
   "source": [
    "Given a configuration vector q of dimension 2, compute the position of the centers of each object, and display correctly the robot."
   ]
  },
  {
   "cell_type": "code",
   "execution_count": 7,
   "metadata": {},
   "outputs": [],
   "source": [
    "q = np.matrix(np.random.rand(2) * 6 - 3).T"
   ]
  },
  {
   "cell_type": "code",
   "execution_count": 8,
   "metadata": {},
   "outputs": [],
   "source": [
    "# %load tp1/solution_display_2r.py\n",
    "import numpy as np\n",
    "\n",
    "\n",
    "def placement(x, y, theta):\n",
    "    return [y, 0, x, 0, np.sin(theta / 2), 0, np.cos(theta / 2)]\n",
    "\n",
    "\n",
    "def solution_display_2r(q, gv):\n",
    "    c0 = np.cos(q[0, 0])\n",
    "    s0 = np.sin(q[0, 0])\n",
    "    c1 = np.cos(q[0, 0] + q[1, 0])\n",
    "    s1 = np.sin(q[0, 0] + q[1, 0])\n",
    "\n",
    "    gv.applyConfiguration('world/joint1', placement(0, 0, 0))\n",
    "    gv.applyConfiguration('world/arm1', placement(c0 / 2, s0 / 2, q[0, 0]))\n",
    "\n",
    "    gv.applyConfiguration('world/joint2', placement(c0, s0, q[0, 0]))\n",
    "    gv.applyConfiguration('world/arm2', placement(c0 + c1 / 2, s0 + s1 / 2, q[0, 0] + q[1, 0]))\n",
    "\n",
    "    gv.applyConfiguration('world/joint3', placement(c0 + c1, s0 + s1, q[0, 0] + q[1, 0]))\n",
    "\n",
    "    gv.refresh()\n"
   ]
  },
  {
   "cell_type": "markdown",
   "metadata": {},
   "source": [
    "## Optimize the configuration \n",
    "Scipy is a collection of scientific tools for Python. It contains, in particular, a set of optimizers that we are going to use for solving the inverse-geometry problem. If not done yet, install scipy with `sudo apt-get install python3-scipy`"
   ]
  },
  {
   "cell_type": "code",
   "execution_count": 10,
   "metadata": {},
   "outputs": [
    {
     "name": "stdout",
     "output_type": "stream",
     "text": [
      "===CBK===    1    1.000000   -0.000000\n",
      "===CBK===    2    2.010000    1.010000\n",
      "===CBK===    3    2.000000    1.000000\n",
      "Optimization terminated successfully.\n",
      "         Current function value: -2.000000\n",
      "         Iterations: 3\n",
      "         Function evaluations: 20\n",
      "         Gradient evaluations: 5\n",
      "\n",
      " *** Xopt in BFGS = [2.00000009 1.00000005] \n",
      "\n",
      "\n",
      "\n",
      "\n",
      "  NIT    FC           OBJFUN            GNORM\n",
      "    1     4     7.000000E+00     8.485281E+00\n",
      "    2     9    -2.000000E-01     1.697056E+00\n",
      "    3    13    -1.928000E+00     3.394112E-01\n",
      "    4    17    -2.000000E+00     6.664002E-08\n",
      "Optimization terminated successfully.    (Exit mode 0)\n",
      "            Current function value: -1.999999999999997\n",
      "            Iterations: 4\n",
      "            Function evaluations: 17\n",
      "            Gradient evaluations: 4\n",
      "\n",
      " *** Xopt in LSQ = (array([1.99999994, 0.99999995]), -1.999999999999997, 4, 0, 'Optimization terminated successfully.') \n",
      "\n",
      "\n",
      "\n",
      "\n",
      "  NIT    FC           OBJFUN            GNORM\n",
      "    1     4     7.000000E+00     8.485281E+00\n",
      "    2     8     9.600000E+01     3.130495E+01\n",
      "Optimization terminated successfully.    (Exit mode 0)\n",
      "            Current function value: 96.0000000000081\n",
      "            Iterations: 2\n",
      "            Function evaluations: 9\n",
      "            Gradient evaluations: 2\n",
      "\n",
      " *** Xopt in c-lsq = (array([2., 8.]), 96.0000000000081, 2, 0, 'Optimization terminated successfully.') \n",
      "\n",
      "\n",
      "\n",
      "\n"
     ]
    }
   ],
   "source": [
    "# %load tp1/example_scipy.py\n",
    "'''\n",
    "Example of use a the optimization toolbox of SciPy.\n",
    "The function optimized here are meaningless, and just given\n",
    "as example. They ***are not*** related to the robotic models.\n",
    "'''\n",
    "import numpy as np\n",
    "from scipy.optimize import fmin_bfgs, fmin_slsqp\n",
    "\n",
    "\n",
    "def cost(x):\n",
    "    '''Cost f(x,y) = x^2 + 2y^2 - 2xy - 2x '''\n",
    "    x0 = x[0]\n",
    "    x1 = x[1]\n",
    "    return -1 * (2 * x0 * x1 + 2 * x0 - x0**2 - 2 * x1**2)\n",
    "\n",
    "\n",
    "def constraint_eq(x):\n",
    "    ''' Constraint x^3 = y '''\n",
    "    return np.array([x[0]**3 - x[1]])\n",
    "\n",
    "\n",
    "def constraint_ineq(x):\n",
    "    '''Constraint x>=2, y>=2'''\n",
    "    return np.array([x[0] - 2, x[1] - 2])\n",
    "\n",
    "\n",
    "class CallbackLogger:\n",
    "    def __init__(self):\n",
    "        self.nfeval = 1\n",
    "\n",
    "    def __call__(self, x):\n",
    "        print('===CBK=== {0:4d}   {1: 3.6f}   {2: 3.6f}'.format(self.nfeval, x[0], x[1], cost(x)))\n",
    "        self.nfeval += 1\n",
    "\n",
    "\n",
    "x0 = np.array([0.0, 0.0])\n",
    "# Optimize cost without any constraints in BFGS, with traces.\n",
    "xopt_bfgs = fmin_bfgs(cost, x0, callback=CallbackLogger())\n",
    "print('\\n *** Xopt in BFGS = %s \\n\\n\\n\\n' % str(xopt_bfgs))\n",
    "\n",
    "# Optimize cost without any constraints in CLSQ\n",
    "xopt_lsq = fmin_slsqp(cost, [-1.0, 1.0], iprint=2, full_output=1)\n",
    "print('\\n *** Xopt in LSQ = %s \\n\\n\\n\\n' % str(xopt_lsq))\n",
    "\n",
    "# Optimize cost with equality and inequality constraints in CLSQ\n",
    "xopt_clsq = fmin_slsqp(cost, [-1.0, 1.0], f_eqcons=constraint_eq, f_ieqcons=constraint_ineq, iprint=2, full_output=1)\n",
    "print('\\n *** Xopt in c-lsq = %s \\n\\n\\n\\n' % str(xopt_clsq))\n"
   ]
  },
  {
   "cell_type": "markdown",
   "metadata": {},
   "source": [
    "For now, let's use the simpler BFGS (unconstrained) solver. Define a cost function denoting the distance from the robot end-effector to an arbitrary target. "
   ]
  },
  {
   "cell_type": "code",
   "execution_count": 12,
   "metadata": {},
   "outputs": [
    {
     "name": "stdout",
     "output_type": "stream",
     "text": [
      "Warning: Desired error not necessarily achieved due to precision loss.\n",
      "         Current function value: 0.000000\n",
      "         Iterations: 30\n",
      "         Function evaluations: 304\n",
      "         Gradient evaluations: 73\n",
      "\n",
      " *** Xopt in BFGS = [1.99482736 3.8643269 ] \n",
      "\n",
      "\n",
      "\n",
      "\n"
     ]
    }
   ],
   "source": [
    "# %load tp1/solution_optimize_q.py\n",
    "import numpy as np\n",
    "from scipy.optimize import fmin_bfgs\n",
    "\n",
    "\n",
    "def placement(x, y, theta):\n",
    "    return [y, 0, x, 0, np.sin(theta / 2), 0, np.cos(theta / 2)]\n",
    "\n",
    "\n",
    "def display2d(q):\n",
    "    '''Display the robot in Gepetto Viewer. '''\n",
    "    assert (q.shape == (2, 1))\n",
    "    c0 = np.cos(q[0, 0])\n",
    "    s0 = np.sin(q[0, 0])\n",
    "    c1 = np.cos(q[0, 0] + q[1, 0])\n",
    "    s1 = np.sin(q[0, 0] + q[1, 0])\n",
    "    gv.applyConfiguration('world/joint1', placement(0, 0, 0))  # noqa\n",
    "    gv.applyConfiguration('world/arm1', placement(c0 / 2, s0 / 2, q[0, 0]))  # noqa\n",
    "    gv.applyConfiguration('world/joint2', placement(c0, s0, q[0, 0]))  # noqa\n",
    "    gv.applyConfiguration('world/arm2', placement(c0 + c1 / 2, s0 + s1 / 2, q[0, 0] + q[1, 0]))  # noqa\n",
    "    gv.applyConfiguration('world/joint3', placement(c0 + c1, s0 + s1, q[0, 0] + q[1, 0]))  # noqa\n",
    "    gv.refresh()  # noqa\n",
    "\n",
    "\n",
    "def endeffector(q):\n",
    "    '''Return the 2D position of the end effector of the robot at configuration q. '''\n",
    "    assert (q.shape == (2, 1))\n",
    "    c0 = np.cos(q[0, 0])\n",
    "    s0 = np.sin(q[0, 0])\n",
    "    c1 = np.cos(q[0, 0] + q[1, 0])\n",
    "    s1 = np.sin(q[0, 0] + q[1, 0])\n",
    "    return np.matrix([c0 + c1, s0 + s1]).T\n",
    "\n",
    "\n",
    "target = np.matrix([.5, .5]).T\n",
    "\n",
    "\n",
    "def cost(q):\n",
    "    q = np.matrix(q).T\n",
    "    eff = endeffector(q)\n",
    "    return np.linalg.norm(eff - target)\n",
    "\n",
    "\n",
    "def callback(q):\n",
    "    q = np.matrix(q).T\n",
    "    display2d(q)\n",
    "    import time\n",
    "    time.sleep(.1)\n",
    "\n",
    "\n",
    "x0 = np.array([0.0, 0.0])\n",
    "xopt_bfgs = fmin_bfgs(cost, x0, callback=callback)\n",
    "print('\\n *** Xopt in BFGS = %s \\n\\n\\n\\n' % xopt_bfgs)\n"
   ]
  },
  {
   "cell_type": "markdown",
   "metadata": {},
   "source": [
    "## What configuration to optimize?\n",
    "It seems logical to optimize over the angles $q_1,q_2$. However, other representations of the configuration are possible. Consider for example the explicit representation, where the placement of each body 1,2,3 is stored. For each body, we get $x,y,\\theta$, so 9 parameters in total. In addition, each body position is constrained with respect to the placement of the previous body, with 6 constraints in total. \n",
    "\n",
    "What are the pros and cons? The effector position is now a trivial function of the representation, hence the cost function is very simple. The trade-off is that we have to explicitly satisfy the constraints. \n",
    "\n",
    "Let's start by defining the configuration."
   ]
  },
  {
   "cell_type": "code",
   "execution_count": 13,
   "metadata": {},
   "outputs": [],
   "source": [
    "x1, y1, th1, x2, y2, th2, x3, y3, th3 = x = np.zeros(9)"
   ]
  },
  {
   "cell_type": "markdown",
   "metadata": {},
   "source": [
    "The cost function is now just a sparse difference on x3,y3:"
   ]
  },
  {
   "cell_type": "code",
   "execution_count": 14,
   "metadata": {},
   "outputs": [],
   "source": [
    "target = [.5, .5]\n",
    "\n",
    "def cost_9(x):\n",
    "    x1, y1, th1, x2, y2, th2, x3, y3, th3 = x \n",
    "    return (x3 - target[0]) ** 2 + (y3 - target[1]) ** 2"
   ]
  },
  {
   "cell_type": "markdown",
   "metadata": {},
   "source": [
    "The constraint function should return a vector, each coefficient corresponding to one of the 6 constraints:"
   ]
  },
  {
   "cell_type": "code",
   "execution_count": 15,
   "metadata": {},
   "outputs": [],
   "source": [
    "def constraint_9(x):\n",
    "    x1, y1, th1, x2, y2, th2, x3, y3, th3 = x \n",
    "    from numpy import cos, sin\n",
    "    return np.array([\n",
    "        x1 - 0,\n",
    "        y1 - 0,\n",
    "        x1 + cos(th1) - x2,\n",
    "        y1 + sin(th1) - y2,\n",
    "        x2 + cos(th2) - x3,\n",
    "        y2 + sin(th2) - y3,\n",
    "    ])"
   ]
  },
  {
   "cell_type": "code",
   "execution_count": 16,
   "metadata": {},
   "outputs": [
    {
     "name": "stdout",
     "output_type": "stream",
     "text": [
      "0.5 [0. 0. 1. 0. 1. 0.]\n"
     ]
    }
   ],
   "source": [
    "x0 = np.zeros(9)\n",
    "print(cost_9(x0), constraint_9(x0))"
   ]
  },
  {
   "cell_type": "markdown",
   "metadata": {},
   "source": [
    "The callback function is now accepting dimension 9 vector:"
   ]
  },
  {
   "cell_type": "code",
   "execution_count": 17,
   "metadata": {},
   "outputs": [],
   "source": [
    "def callback_9(ps):\n",
    "    '''Display the robot in Gepetto Viewer. '''\n",
    "    assert(ps.shape == (9,) )\n",
    "    x1, y1, t1, x2, y2, t2, x3, y3, t3 = ps\n",
    "    gv.applyConfiguration('world/joint1', placement(x1, y1, t1) )\n",
    "    gv.applyConfiguration('world/arm1', placement(x1 + np.cos(t1) / 2, x1 + np.sin(t1) / 2, t1))\n",
    "    gv.applyConfiguration('world/joint2', placement(x2, y2, t2) )\n",
    "    gv.applyConfiguration('world/arm2', placement(x2 + np.cos(t2) / 2, y2 + np.sin(t2) / 2, t2))\n",
    "    gv.applyConfiguration('world/joint3', placement(x3, y3, t3) )\n",
    "    gv.refresh()\n",
    "    import time\n",
    "    time.sleep(.5)\n",
    "    \n",
    "callback_9(x0)"
   ]
  },
  {
   "cell_type": "markdown",
   "metadata": {},
   "source": [
    "The BFGS solver defined above cannot be used directly to optimize over equality constraints. A dirty trick is to add the constraint as a penalty, i.e. a high-weigth term in the cost function: $penalty(x) = cost(x) + 100*||constraint(x)||^2$ . Here, we are in a good case where the optimum corresponds to the 0 of both the constraint and the cost. The penalty with any weight would lead to the optimum and perfect constraint satisfaction. Yet the solver suffers to reach the optimum, because of the way we have described the constraint."
   ]
  },
  {
   "cell_type": "code",
   "execution_count": 18,
   "metadata": {
    "scrolled": true
   },
   "outputs": [
    {
     "name": "stdout",
     "output_type": "stream",
     "text": [
      "Optimization terminated successfully.\n",
      "         Current function value: 0.000000\n",
      "         Iterations: 49\n",
      "         Function evaluations: 693\n",
      "         Gradient evaluations: 63\n",
      "\n",
      " *** Xopt BFGS = [-1.94847064e-08 -2.81093797e-08  1.99482960e+00 -4.11439880e-01\n",
      "  9.11436868e-01 -4.24030954e-01  4.99997984e-01  4.99999127e-01\n",
      "  0.00000000e+00] \n",
      "\n",
      "\n",
      "\n",
      "\n"
     ]
    }
   ],
   "source": [
    "# %load tp1/solution_optimize_placements_bfgs.py\n",
    "# flake8: noqa\n",
    "\n",
    "\n",
    "def penalty(x):\n",
    "    return cost_9(x) + 100 * np.linalg.norm(constraint_9(x))**2\n",
    "\n",
    "\n",
    "xopt_bfgs = fmin_bfgs(penalty, x0, callback=callback_9)\n",
    "print('\\n *** Xopt BFGS = %s \\n\\n\\n\\n' % xopt_bfgs)\n"
   ]
  },
  {
   "cell_type": "markdown",
   "metadata": {},
   "source": [
    "Alternatively, the solver S-LS-QP (sequential least-square quadratic-program) optimizes over equality constraints."
   ]
  },
  {
   "cell_type": "code",
   "execution_count": 19,
   "metadata": {},
   "outputs": [
    {
     "name": "stdout",
     "output_type": "stream",
     "text": [
      "  NIT    FC           OBJFUN            GNORM\n",
      "    1    11     5.000000E-01     1.414214E+00\n",
      "    2    22     2.260000E+00     3.006659E+00\n",
      "    3    33     1.745455E+00     2.642313E+00\n",
      "    4    45     1.229163E+00     2.217352E+00\n",
      "    5    56     2.636509E-01     1.026939E+00\n",
      "    6    67     8.257470E-02     5.747163E-01\n",
      "    7    78     1.490827E-02     2.441989E-01\n",
      "    8    89     5.791089E-03     1.521984E-01\n",
      "    9   100     5.748589E-05     1.516387E-02\n",
      "   10   111     1.466559E-08     2.421909E-04\n",
      "Optimization terminated successfully.    (Exit mode 0)\n",
      "            Current function value: 6.731271590554328e-11\n",
      "            Iterations: 10\n",
      "            Function evaluations: 112\n",
      "            Gradient evaluations: 10\n",
      "\n",
      " *** Xopt SQP  = [ 0.          0.         -0.42403634  0.91143568 -0.41144267  1.99483082\n",
      "  0.49999469  0.49999374  0.        ]\n",
      "\n",
      "\n",
      "\n",
      "\n"
     ]
    }
   ],
   "source": [
    "%load -r tp1/solution_optimize_placements.py\n"
   ]
  },
  {
   "cell_type": "markdown",
   "metadata": {},
   "source": [
    "When properly defining the constraint, the solver converges quickly. It is difficult to say a-priori whether it is better to optimize with the q (and consequently a dense cost and no constraint) or with the x-y-theta (and consequently a sparse cost and constraints). Here, we empirically observe no difference. "
   ]
  },
  {
   "cell_type": "code",
   "execution_count": null,
   "metadata": {},
   "outputs": [],
   "source": []
  }
 ],
 "metadata": {
  "kernelspec": {
   "display_name": "Python 3",
   "language": "python",
   "name": "python3"
  },
  "language_info": {
   "codemirror_mode": {
    "name": "ipython",
    "version": 3
   },
   "file_extension": ".py",
   "mimetype": "text/x-python",
   "name": "python",
   "nbconvert_exporter": "python",
   "pygments_lexer": "ipython3",
   "version": "3.5.2"
  }
 },
 "nbformat": 4,
 "nbformat_minor": 2
}
